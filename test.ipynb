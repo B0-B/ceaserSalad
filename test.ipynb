{
 "cells": [
  {
   "cell_type": "code",
   "execution_count": 1,
   "metadata": {},
   "outputs": [],
   "source": [
    "class engine:\n",
    "\n",
    "    soup = '''abcdefghijklmnopqrstuvwxyzABCDEFGHIJKLMNOPQRSTUVWXYZ!\"#$%&'()*+,-./:;<=>?@[\\\\]^_`{|}~0123456789 \\n\\t'''\n",
    "    def __init__(self):\n",
    "        self.map = {}\n",
    "        for char in self.soup:\n",
    "            self.map[char] = self.soup.index(char)\n",
    "    def encrypt(self, plainText, secret):\n",
    "        ind, cypher, l, s = 0, str(), len(secret), len(self.soup)\n",
    "        for char in plainText:\n",
    "            cypher += self.shift(char, secret, ind, l, s)\n",
    "            ind += 1\n",
    "        return cypher\n",
    "    def decrypt(self, cipher, secret):\n",
    "        ind, plain, l, s = 0, str(), len(secret), len(self.soup)\n",
    "        for letter in cipher:\n",
    "            plain += self.shift(letter, secret, ind, l, s, -1)\n",
    "            ind += 1\n",
    "        return plain\n",
    "    def shift(self, letter, secret, ind, l, s, sign=1):\n",
    "        try:\n",
    "            return self.soup[(self.map[letter] + sign * self.map[secret[ind % l]]) % s]\n",
    "        except:\n",
    "            raise ValueError(f'String includes invalid characters, allowed are \\n{self.soup}')"
   ]
  },
  {
   "cell_type": "code",
   "execution_count": 5,
   "metadata": {},
   "outputs": [
    {
     "name": "stdout",
     "output_type": "stream",
     "text": [
      "9UKaD}684hZ<7:9YC}EI7)Y<VV WB\n"
     ]
    }
   ],
   "source": [
    "cs = engine()\n",
    "encrypted = cs.encrypt(\"9CH8D-3342W-7X6TC-BD7QV-VD7RB\", \"asdf\")\n",
    "print(encrypted)"
   ]
  },
  {
   "cell_type": "code",
   "execution_count": 6,
   "metadata": {},
   "outputs": [
    {
     "name": "stdout",
     "output_type": "stream",
     "text": [
      "9CH8D-3342W-7X6TC-BD7QV-VD7RB\n"
     ]
    }
   ],
   "source": [
    "decrypted = cs.decrypt(encrypted, \"asdf\")\n",
    "print(decrypted)"
   ]
  },
  {
   "cell_type": "code",
   "execution_count": 10,
   "metadata": {},
   "outputs": [
    {
     "name": "stdout",
     "output_type": "stream",
     "text": [
      "x\n",
      "\n",
      "x\n",
      "\n",
      "2\n"
     ]
    }
   ],
   "source": [
    "a =\"x\\n\"[:-1]\n",
    "print(a)\n",
    "print(a)\n",
    "print(len(a))"
   ]
  }
 ],
 "metadata": {
  "kernelspec": {
   "display_name": "Python 3.10.0 64-bit",
   "language": "python",
   "name": "python3"
  },
  "language_info": {
   "codemirror_mode": {
    "name": "ipython",
    "version": 3
   },
   "file_extension": ".py",
   "mimetype": "text/x-python",
   "name": "python",
   "nbconvert_exporter": "python",
   "pygments_lexer": "ipython3",
   "version": "3.10.0"
  },
  "orig_nbformat": 4,
  "vscode": {
   "interpreter": {
    "hash": "bedeb2e9f93be382e47028f8d8ed5a063074046a8c3efaf76a8b1122db3d2a03"
   }
  }
 },
 "nbformat": 4,
 "nbformat_minor": 2
}
